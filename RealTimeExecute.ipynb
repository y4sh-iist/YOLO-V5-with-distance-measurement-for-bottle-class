{
 "cells": [
  {
   "cell_type": "code",
   "execution_count": 1,
   "id": "d29e2c3d-d240-4a36-aced-2d288554beef",
   "metadata": {},
   "outputs": [],
   "source": [
    "import cv2\n",
    "from main_algorithm import YOLO_Pred"
   ]
  },
  {
   "cell_type": "code",
   "execution_count": 2,
   "id": "cd9625f2-b461-4a62-95c9-5148cbe29edc",
   "metadata": {},
   "outputs": [],
   "source": [
    "yolo = YOLO_Pred('./Model4/weights/best.onnx','data.yaml')"
   ]
  },
  {
   "cell_type": "code",
   "execution_count": 3,
   "id": "f20fef24-370d-4f54-88cd-c86dca0cfee1",
   "metadata": {},
   "outputs": [],
   "source": [
    "#capturing\n",
    "cap=cv2.VideoCapture(0)\n",
    "\n",
    "while True:\n",
    "    ret,frame=cap.read()\n",
    "    if ret==False:\n",
    "        print('unable to read video')\n",
    "        break\n",
    "\n",
    "    pred_image=yolo.predictions(frame)\n",
    "\n",
    "\n",
    "    cv2.imshow('YOLO',pred_image)\n",
    "    if cv2.waitKey(1)==27:\n",
    "        break\n",
    "\n",
    "\n",
    "cv2.destroyAllWindows()\n",
    "cap.release()\n"
   ]
  },
  {
   "cell_type": "code",
   "execution_count": null,
   "id": "b6f77e73-b586-4679-9f2d-e5def68c940f",
   "metadata": {},
   "outputs": [],
   "source": []
  },
  {
   "cell_type": "code",
   "execution_count": null,
   "id": "d985b81f-1f69-4332-88f4-c2484fc93268",
   "metadata": {},
   "outputs": [],
   "source": []
  }
 ],
 "metadata": {
  "kernelspec": {
   "display_name": "Python 3 (ipykernel)",
   "language": "python",
   "name": "python3"
  },
  "language_info": {
   "codemirror_mode": {
    "name": "ipython",
    "version": 3
   },
   "file_extension": ".py",
   "mimetype": "text/x-python",
   "name": "python",
   "nbconvert_exporter": "python",
   "pygments_lexer": "ipython3",
   "version": "3.9.0"
  }
 },
 "nbformat": 4,
 "nbformat_minor": 5
}
