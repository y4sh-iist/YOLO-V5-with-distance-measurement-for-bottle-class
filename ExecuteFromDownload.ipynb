{
 "cells": [
  {
   "cell_type": "code",
   "execution_count": 4,
   "id": "a9cf77cc-ff36-4134-938d-9b925567d5ce",
   "metadata": {},
   "outputs": [],
   "source": [
    "import cv2\n",
    "import numpy as np \n",
    "import os\n",
    "import yaml\n",
    "from yaml.loader import SafeLoader\n"
   ]
  },
  {
   "cell_type": "code",
   "execution_count": 5,
   "id": "bdc10dad-d228-4f69-81c7-9d57c33d0d8f",
   "metadata": {},
   "outputs": [
    {
     "name": "stdout",
     "output_type": "stream",
     "text": [
      "['person', 'car', 'chair', 'bottle', 'pottedplant', 'bird', 'dog', 'sofa', 'bicycle', 'horse', 'boat', 'motorbike', 'cat', 'tvmonitor', 'cow', 'sheep', 'aeroplane', 'train', 'diningtable', 'bus']\n"
     ]
    }
   ],
   "source": [
    "#load yaml\n",
    "with open('data.yaml',mode='r') as f:\n",
    "    data_yaml=yaml.load(f,Loader=SafeLoader)\n",
    "    \n",
    "labels=data_yaml['names']\n",
    "print(labels)"
   ]
  },
  {
   "cell_type": "code",
   "execution_count": 6,
   "id": "ba066820-bd11-4194-b481-e3f35201cf88",
   "metadata": {},
   "outputs": [],
   "source": [
    "#Load YOLO model\n",
    "yolo =cv2.dnn.readNetFromONNX('./Model4/weights/best.onnx')\n",
    "yolo.setPreferableBackend(cv2.dnn.DNN_BACKEND_OPENCV)\n",
    "yolo.setPreferableTarget(cv2.dnn.DNN_TARGET_CPU)"
   ]
  },
  {
   "cell_type": "code",
   "execution_count": 7,
   "id": "f1ffae79-45e9-44f2-a175-e5f429818b77",
   "metadata": {},
   "outputs": [],
   "source": [
    "#load the test image\n",
    "img = cv2.imread('/Users/sandeepchaudhary/Desktop/YOLO/2_predictions/57.5_back.jpg')\n",
    "image = img.copy()\n",
    "#cv2.imshow('image',image)\n",
    "#cv2.waitKey(0)\n",
    "#cv2.destroyAllWindows()\n",
    "row,col,d= image.shape\n",
    "#get the YOLO predictions\n",
    "#step-1 convert the image into a square image (array)\n",
    "max_rc=max(row,col)\n",
    "input_image=np.zeros((max_rc,max_rc,3),dtype=np.uint8)\n",
    "input_image[0:row,0:col]=image\n",
    "#step-2 get prediction from the square array\n",
    "INPUT_WH_YOLO=640\n",
    "blob =cv2.dnn.blobFromImage(input_image,1/255,(INPUT_WH_YOLO,INPUT_WH_YOLO),swapRB=True,crop=False)\n",
    "yolo.setInput(blob)\n",
    "preds=yolo.forward()#predictions from yolo model"
   ]
  },
  {
   "cell_type": "code",
   "execution_count": 8,
   "id": "5b20d817-bba6-48a9-a80c-cf750595a792",
   "metadata": {},
   "outputs": [],
   "source": [
    "#Non Maximum suppresion Filter\n",
    "#filter detections based on confidence score(0.4) and probability score(0.25)\n",
    "detections=preds[0]\n",
    "boxes=[]\n",
    "confidences=[]\n",
    "classes=[]\n",
    "focal_length=0.026\n",
    "avg_width = 11.2\n",
    "def distance(width_pixels):\n",
    "    return(avg_width*focal_length / width_pixels)\n",
    "\n",
    "#calculate the width and height of the image\n",
    "image_w,image_h=input_image.shape[:2]\n",
    "x_factor = image_w/INPUT_WH_YOLO\n",
    "y_factor = image_h/INPUT_WH_YOLO\n",
    "\n",
    "for i in range(len(detections)):\n",
    "    row = detections[i]\n",
    "    confidence = row[4]# confidence of detection of an object\n",
    "    if confidence > 0.4:\n",
    "        class_score = row[5:].max() #maximum probability out of the 20 objects\n",
    "        class_id = row[5:].argmax() #get the index position at which the max probability occur\n",
    "        if class_score > 0.25:\n",
    "            cx,cy,w,h = row[0:4]\n",
    "            #construct the bounding box from 4 values\n",
    "            #left,top,width and height \n",
    "            left = int((cx-0.5*w)*x_factor)\n",
    "            top = int((cy-0.5*h)*y_factor)\n",
    "            width = int(w*x_factor)\n",
    "            height = int(h*y_factor)\n",
    "            box=np.array([left,top,width,height])\n",
    "            dist = distance(width) \n",
    "            #append values into the list\n",
    "            confidences.append(confidence)\n",
    "            boxes.append(box)\n",
    "            classes.append(class_id)\n",
    "\n",
    "#clean\n",
    "boxes_np = np.array(boxes).tolist()\n",
    "confidences_np = np.array(confidences).tolist()\n",
    "dist_adjusted= dist\n",
    "dist_int= int(dist_adjusted*100000)\n",
    "dist_final=str(dist_int)\n",
    "unit = 'cm'\n",
    "#NMS\n",
    "index = cv2.dnn.NMSBoxes(boxes_np,confidences_np,0.25,0.45).flatten()"
   ]
  },
  {
   "cell_type": "code",
   "execution_count": 9,
   "id": "4014217f-9243-471f-a770-8d4c6b75383b",
   "metadata": {},
   "outputs": [
    {
     "data": {
      "text/plain": [
       "58.123752495009974"
      ]
     },
     "execution_count": 9,
     "metadata": {},
     "output_type": "execute_result"
    }
   ],
   "source": [
    "dist_adjusted*100000"
   ]
  },
  {
   "cell_type": "code",
   "execution_count": 7,
   "id": "e7ed70ba-22d4-469c-a906-f020a3fdc491",
   "metadata": {},
   "outputs": [],
   "source": [
    "for ind in index:\n",
    "    #extract bounding boxes\n",
    "    x,y,w,h = boxes_np[ind]\n",
    "    bb_conf=confidences[ind]*100\n",
    "    classes_id=classes[ind]\n",
    "    class_name=labels[classes_id]\n",
    "    text=f'{class_name}:{bb_conf}% {dist_final}{unit}'\n",
    "    cv2.rectangle(image,(x,y),(x+w,y+h),(0,255,0),2)\n",
    "    cv2.rectangle(image,(x,y-30),(x+w,y),(255,255,255),-1)\n",
    "    cv2.putText(image,text,(x,y-10),cv2.FONT_HERSHEY_PLAIN,0.7,(0,0,0),1)"
   ]
  },
  {
   "cell_type": "code",
   "execution_count": 8,
   "id": "65142a39-2229-486e-8ef4-302732ec00d8",
   "metadata": {},
   "outputs": [],
   "source": [
    "cv2.imshow('harr_cascade',image)\n",
    "cv2.waitKey(0)\n",
    "cv2.destroyAllWindows()"
   ]
  },
  {
   "cell_type": "code",
   "execution_count": null,
   "id": "baad115f-32b4-4b43-a90d-970fd6c74fc2",
   "metadata": {},
   "outputs": [],
   "source": []
  }
 ],
 "metadata": {
  "kernelspec": {
   "display_name": "Python 3 (ipykernel)",
   "language": "python",
   "name": "python3"
  },
  "language_info": {
   "codemirror_mode": {
    "name": "ipython",
    "version": 3
   },
   "file_extension": ".py",
   "mimetype": "text/x-python",
   "name": "python",
   "nbconvert_exporter": "python",
   "pygments_lexer": "ipython3",
   "version": "3.9.0"
  }
 },
 "nbformat": 4,
 "nbformat_minor": 5
}
