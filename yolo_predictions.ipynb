{
 "cells": [
  {
   "cell_type": "code",
   "execution_count": 1,
   "id": "674c15f7-aa96-4f01-9520-6abaadc6e097",
   "metadata": {},
   "outputs": [],
   "source": [
    "import cv2\n",
    "import numpy as np \n",
    "import os\n",
    "import yaml\n",
    "from yaml.loader import SafeLoader\n"
   ]
  },
  {
   "cell_type": "code",
   "execution_count": 2,
   "id": "06a2bbf5-cfff-4f58-bc2b-06b435a03717",
   "metadata": {},
   "outputs": [
    {
     "name": "stdout",
     "output_type": "stream",
     "text": [
      "['person', 'car', 'chair', 'bottle', 'pottedplant', 'bird', 'dog', 'sofa', 'bicycle', 'horse', 'boat', 'motorbike', 'cat', 'tvmonitor', 'cow', 'sheep', 'aeroplane', 'train', 'diningtable', 'bus']\n"
     ]
    }
   ],
   "source": [
    "#load yaml\n",
    "with open('data.yaml',mode='r') as f:\n",
    "    data_yaml=yaml.load(f,Loader=SafeLoader)\n",
    "    \n",
    "labels=data_yaml['names']\n",
    "print(labels)\n"
   ]
  },
  {
   "cell_type": "code",
   "execution_count": 3,
   "id": "674820a8-3b02-49af-8aaf-955e081ffc6e",
   "metadata": {},
   "outputs": [],
   "source": [
    "#Load YOLO model\n",
    "yolo =cv2.dnn.readNetFromONNX('./Model4/weights/best.onnx')\n",
    "yolo.setPreferableBackend(cv2.dnn.DNN_BACKEND_OPENCV)\n",
    "yolo.setPreferableTarget(cv2.dnn.DNN_TARGET_CPU)"
   ]
  },
  {
   "cell_type": "code",
   "execution_count": 4,
   "id": "c9fa175e-0be0-4047-ae64-abbfd075e2c1",
   "metadata": {},
   "outputs": [],
   "source": [
    "#load the test image\n",
    "img = cv2.imread('/Users/sandeepchaudhary/Desktop/YOLO/2_predictions/45.jpg')\n",
    "image = img.copy()\n",
    "#cv2.imshow('image',image)\n",
    "#cv2.waitKey(0)\n",
    "#cv2.destroyAllWindows()\n",
    "row,col,d= image.shape\n",
    "#get the YOLO predictions\n",
    "#step-1 convert the image into a square image (array)\n",
    "max_rc=max(row,col)\n",
    "input_image=np.zeros((max_rc,max_rc,3),dtype=np.uint8)\n",
    "input_image[0:row,0:col]=image\n",
    "#step-2 get prediction from the square array\n",
    "INPUT_WH_YOLO=640\n",
    "blob =cv2.dnn.blobFromImage(input_image,1/255,(INPUT_WH_YOLO,INPUT_WH_YOLO),swapRB=True,crop=False)\n",
    "yolo.setInput(blob)\n",
    "preds=yolo.forward()#predictions from yolo model"
   ]
  },
  {
   "cell_type": "code",
   "execution_count": 5,
   "id": "b4a70fb1-1d01-4c3f-8d5b-b3f372c47303",
   "metadata": {},
   "outputs": [
    {
     "name": "stdout",
     "output_type": "stream",
     "text": [
      "(1, 25200, 25)\n"
     ]
    }
   ],
   "source": [
    "print(preds.shape)"
   ]
  },
  {
   "cell_type": "code",
   "execution_count": 7,
   "id": "0755cd4a-5de4-484b-88a1-ee4c8688fdf8",
   "metadata": {},
   "outputs": [],
   "source": [
    "#Non Maximum suppresion Filter\n",
    "#filter detections based on confidence score(0.4) and probability score(0.25)\n",
    "detections=preds[0]\n",
    "boxes=[]\n",
    "confidences=[]\n",
    "classes=[]\n",
    "\n",
    "#calculate the width and height of the image\n",
    "image_w,image_h=input_image.shape[:2]\n",
    "x_factor = image_w/INPUT_WH_YOLO\n",
    "y_factor = image_h/INPUT_WH_YOLO\n",
    "\n",
    "for i in range(len(detections)):\n",
    "    row = detections[i]\n",
    "    confidence = row[4]# confidence of detection of an object\n",
    "    if confidence > 0.4:\n",
    "        class_score = row[5:].max() #maximum probability out of the 20 objects\n",
    "        class_id = row[5:].argmax() #get the index position at which the max probability occur\n",
    "        if class_score > 0.25:\n",
    "            cx,cy,w,h = row[0:4]\n",
    "            #construct the bounding box from 4 values\n",
    "            #left,top,width and height \n",
    "            left = int((cx-0.5*w)*x_factor)\n",
    "            top = int((cy-0.5*h)*y_factor)\n",
    "            width = int(w*x_factor)\n",
    "            height = int(h*y_factor)\n",
    "            box=np.array([left,top,width,height])\n",
    "\n",
    "            #append values into the list\n",
    "            confidences.append(confidence)\n",
    "            boxes.append(box)\n",
    "            classes.append(class_id)\n",
    "\n",
    "#clean\n",
    "boxes_np = np.array(boxes).tolist()\n",
    "confidences_np = np.array(confidences).tolist()\n",
    "\n",
    "#NMS\n",
    "index = cv2.dnn.NMSBoxes(boxes_np,confidences_np,0.25,0.45).flatten()\n"
   ]
  },
  {
   "cell_type": "code",
   "execution_count": null,
   "id": "e8e8a8ec-49e7-47f7-ac7b-7d57ddc286fd",
   "metadata": {},
   "outputs": [],
   "source": []
  },
  {
   "cell_type": "code",
   "execution_count": 11,
   "id": "c3ac09cf-ea1e-4ecf-83c6-f42a9486cac9",
   "metadata": {},
   "outputs": [],
   "source": [
    "#draw the bounding boxes\n",
    "for ind in index:\n",
    "    #extract bounding boxes\n",
    "    x,y,w,h = boxes_np[ind]\n",
    "    bb_conf=confidences[ind]*100\n",
    "    classes_id=classes[ind]\n",
    "    class_name=labels[classes_id]\n",
    "    text=f'{class_name}:{bb_conf}%'\n",
    "    cv2.rectangle(image,(x,y),(x+w,y+h),(0,255,0),2)\n",
    "    cv2.rectangle(image,(x,y-30),(x+w,y),(255,255,255),-1)\n",
    "    cv2.putText(image,text,(x,y-10),cv2.FONT_HERSHEY_PLAIN,0.7,(0,0,0),1)   "
   ]
  },
  {
   "cell_type": "code",
   "execution_count": 12,
   "id": "ee355083-fc30-4fc2-b9cb-039a25565f24",
   "metadata": {},
   "outputs": [
    {
     "data": {
      "text/plain": [
       "[[863, 832, 590, 1721],\n",
       " [862, 827, 607, 1730],\n",
       " [854, 816, 603, 1844],\n",
       " [853, 820, 612, 1842],\n",
       " [881, 814, 584, 1947],\n",
       " [875, 820, 588, 1932],\n",
       " [866, 825, 583, 1933],\n",
       " [881, 844, 570, 1882]]"
      ]
     },
     "execution_count": 12,
     "metadata": {},
     "output_type": "execute_result"
    }
   ],
   "source": [
    "boxes_np"
   ]
  },
  {
   "cell_type": "code",
   "execution_count": 13,
   "id": "e15e792d-bda7-4123-a607-3f6f96159e6f",
   "metadata": {},
   "outputs": [],
   "source": [
    "cv2.imshow('yolo_predictions',image)\n",
    "cv2.waitKey(0)\n",
    "cv2.destroyAllWindows()"
   ]
  },
  {
   "cell_type": "code",
   "execution_count": null,
   "id": "3556bb2c-10ef-4d09-aaf4-498d5682ee80",
   "metadata": {},
   "outputs": [],
   "source": []
  }
 ],
 "metadata": {
  "kernelspec": {
   "display_name": "Python 3 (ipykernel)",
   "language": "python",
   "name": "python3"
  },
  "language_info": {
   "codemirror_mode": {
    "name": "ipython",
    "version": 3
   },
   "file_extension": ".py",
   "mimetype": "text/x-python",
   "name": "python",
   "nbconvert_exporter": "python",
   "pygments_lexer": "ipython3",
   "version": "3.9.0"
  }
 },
 "nbformat": 4,
 "nbformat_minor": 5
}
