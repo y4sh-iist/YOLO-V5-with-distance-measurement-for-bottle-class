{
 "cells": [
  {
   "cell_type": "code",
   "execution_count": 1,
   "id": "7d610380-a024-4dc2-b8e1-5cbc38b31ec6",
   "metadata": {},
   "outputs": [],
   "source": [
    "import cv2\n",
    "from yolo_predictions import YOLO_Pred"
   ]
  },
  {
   "cell_type": "code",
   "execution_count": 2,
   "id": "a5943d13-a506-4c69-bca6-4cba256eb9c1",
   "metadata": {},
   "outputs": [],
   "source": [
    "yolo = YOLO_Pred('./Model4/weights/best.onnx','data.yaml')"
   ]
  },
  {
   "cell_type": "code",
   "execution_count": 3,
   "id": "70fa3fd6-6e79-441a-a7c4-6eeb89c8371d",
   "metadata": {},
   "outputs": [],
   "source": [
    "img=cv2.imread('./test.jpg')\n",
    "img_pred=yolo.predictions(img)"
   ]
  },
  {
   "cell_type": "code",
   "execution_count": 4,
   "id": "f0d6cf8e-c3b5-4280-b406-30a699688baa",
   "metadata": {},
   "outputs": [],
   "source": [
    "#cv2.imshow('predictions',img_pred)\n",
    "#cv2.waitKey(0)\n",
    "#cv2.destroyAllWindows()"
   ]
  },
  {
   "cell_type": "code",
   "execution_count": 5,
   "id": "3ff2e19f-7141-4400-a4d6-d0de14a23902",
   "metadata": {},
   "outputs": [],
   "source": [
    "## REAL TIME OBJECT DETECTION\n",
    "cap=cv2.VideoCapture(0)\n",
    "\n",
    "while True:\n",
    "    ret,frame=cap.read()\n",
    "    if ret==False:\n",
    "        print('unable to read video')\n",
    "        break\n",
    "\n",
    "    pred_image=yolo.predictions(frame)\n",
    "\n",
    "\n",
    "    cv2.imshow('YOLO',pred_image)\n",
    "    if cv2.waitKey(1)==27:\n",
    "        break\n",
    "\n",
    "\n",
    "cv2.destroyAllWindows()\n",
    "cap.release()\n"
   ]
  },
  {
   "cell_type": "code",
   "execution_count": null,
   "id": "1ee1c937-cb76-468f-993f-07370d10304d",
   "metadata": {},
   "outputs": [],
   "source": []
  }
 ],
 "metadata": {
  "kernelspec": {
   "display_name": "Python 3 (ipykernel)",
   "language": "python",
   "name": "python3"
  },
  "language_info": {
   "codemirror_mode": {
    "name": "ipython",
    "version": 3
   },
   "file_extension": ".py",
   "mimetype": "text/x-python",
   "name": "python",
   "nbconvert_exporter": "python",
   "pygments_lexer": "ipython3",
   "version": "3.9.0"
  }
 },
 "nbformat": 4,
 "nbformat_minor": 5
}
